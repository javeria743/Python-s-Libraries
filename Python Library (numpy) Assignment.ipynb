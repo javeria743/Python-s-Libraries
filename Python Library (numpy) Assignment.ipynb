{
 "cells": [
  {
   "cell_type": "markdown",
   "id": "9abb6801",
   "metadata": {},
   "source": [
    "# python Libraries Assignment\n",
    "# Array creation"
   ]
  },
  {
   "cell_type": "code",
   "execution_count": 1,
   "id": "902ccee3",
   "metadata": {},
   "outputs": [
    {
     "name": "stdout",
     "output_type": "stream",
     "text": [
      "Task 1: [0. 0. 0. 0. 0. 0. 0. 0. 0. 0.]\n"
     ]
    }
   ],
   "source": [
    "# Import the NumPy library\n",
    "import numpy as np\n",
    "# Task 1: Create a numpy array of size 10, filled with zeros\n",
    "array_zeros = np.zeros(10)\n",
    "print(\"Task 1:\", array_zeros)"
   ]
  },
  {
   "cell_type": "code",
   "execution_count": 2,
   "id": "c6f50413",
   "metadata": {},
   "outputs": [
    {
     "name": "stdout",
     "output_type": "stream",
     "text": [
      "Task 2: [10. 11. 12. 13. 14. 15. 16. 17. 18. 19. 20. 21. 22. 23. 24. 25. 26. 27.\n",
      " 28. 29. 30. 31. 32. 33. 34. 35. 36. 37. 38. 39. 40. 41. 42. 43. 44. 45.\n",
      " 46. 47. 48. 49.]\n"
     ]
    }
   ],
   "source": [
    "# Task 2: Create a numpy array with values ranging from 10 to 49 and set its datatype to float\n",
    "array_float = np.arange(10, 50, dtype=float)\n",
    "print(\"Task 2:\", array_float)"
   ]
  },
  {
   "cell_type": "code",
   "execution_count": 3,
   "id": "80a67e05",
   "metadata": {},
   "outputs": [
    {
     "name": "stdout",
     "output_type": "stream",
     "text": [
      "Task 3: [[1 1]\n",
      " [1 1]]\n"
     ]
    }
   ],
   "source": [
    "# Task 3: Create a numpy matrix of 2*2 integers, filled with ones\n",
    "matrix_ones_int = np.ones((2, 2), dtype=int)\n",
    "print(\"Task 3:\", matrix_ones_int)"
   ]
  },
  {
   "cell_type": "code",
   "execution_count": 4,
   "id": "41483202",
   "metadata": {},
   "outputs": [
    {
     "name": "stdout",
     "output_type": "stream",
     "text": [
      "Task 4: [[1. 1.]\n",
      " [1. 1.]\n",
      " [1. 1.]]\n"
     ]
    }
   ],
   "source": [
    "# Task 4: Create a numpy matrix of 3*2 float numbers, filled with ones\n",
    "matrix_ones_float = np.ones((3, 2), dtype=float)\n",
    "print(\"Task 4:\", matrix_ones_float)"
   ]
  },
  {
   "cell_type": "code",
   "execution_count": 33,
   "id": "f4f65ee7",
   "metadata": {},
   "outputs": [
    {
     "name": "stdout",
     "output_type": "stream",
     "text": [
      "Task 5: [[1 1 1 1]\n",
      " [1 1 1 1]\n",
      " [1 1 1 1]\n",
      " [1 1 1 1]]\n"
     ]
    }
   ],
   "source": [
    "# Given matrix X\n",
    "X = np.array([\n",
    "    [1, 2, 3, 4],\n",
    "    [5, 6, 7, 8],\n",
    "    [9, 10, 11, 12],\n",
    "    [13, 14, 15, 16]\n",
    "])\n",
    "\n",
    "# Task 5: Create a new numpy array with the same shape and type as X, filled with ones\n",
    "ones_like_X = np.ones_like(X)\n",
    "print(\"Task 5:\", ones_like_X)"
   ]
  },
  {
   "cell_type": "code",
   "execution_count": 34,
   "id": "42eb2a96",
   "metadata": {},
   "outputs": [
    {
     "name": "stdout",
     "output_type": "stream",
     "text": [
      "Task 6: [[0 0 0 0]\n",
      " [0 0 0 0]\n",
      " [0 0 0 0]\n",
      " [0 0 0 0]]\n"
     ]
    }
   ],
   "source": [
    "# Task 6: Create a new numpy matrix with the same shape and type as X, filled with zeros\n",
    "zeros_like_X = np.zeros_like(X)\n",
    "print(\"Task 6:\", zeros_like_X)"
   ]
  },
  {
   "cell_type": "code",
   "execution_count": 7,
   "id": "c89f634c",
   "metadata": {},
   "outputs": [
    {
     "name": "stdout",
     "output_type": "stream",
     "text": [
      "Task 7: [[5 5 5 5]\n",
      " [5 5 5 5]\n",
      " [5 5 5 5]\n",
      " [5 5 5 5]]\n"
     ]
    }
   ],
   "source": [
    "# Task 7: Create a numpy matrix of 4*4 integers, filled with fives\n",
    "matrix_fives = np.full((4, 4), 5, dtype=int)\n",
    "print(\"Task 7:\", matrix_fives)"
   ]
  },
  {
   "cell_type": "code",
   "execution_count": 35,
   "id": "5a674017",
   "metadata": {},
   "outputs": [
    {
     "name": "stdout",
     "output_type": "stream",
     "text": [
      "Task 8: [[7 7 7 7]\n",
      " [7 7 7 7]\n",
      " [7 7 7 7]\n",
      " [7 7 7 7]]\n"
     ]
    }
   ],
   "source": [
    "# Task 8: Create a new numpy matrix with the same shape and type as X, filled with sevens\n",
    "sevens_like_X = np.full_like(X, 7)\n",
    "print(\"Task 8:\", sevens_like_X)"
   ]
  },
  {
   "cell_type": "code",
   "execution_count": 9,
   "id": "f676d2a5",
   "metadata": {},
   "outputs": [
    {
     "name": "stdout",
     "output_type": "stream",
     "text": [
      "Task 9: [[1. 0. 0.]\n",
      " [0. 1. 0.]\n",
      " [0. 0. 1.]]\n"
     ]
    }
   ],
   "source": [
    "# Task 9: Create a 3*3 identity numpy matrix with ones on the diagonal and zeros elsewhere\n",
    "identity_matrix = np.eye(3)\n",
    "print(\"Task 9:\", identity_matrix)"
   ]
  },
  {
   "cell_type": "code",
   "execution_count": 10,
   "id": "fef57542",
   "metadata": {},
   "outputs": [
    {
     "name": "stdout",
     "output_type": "stream",
     "text": [
      "Task 10: [5 2 4]\n"
     ]
    }
   ],
   "source": [
    "# Task 10: Create a numpy array, filled with 3 random integer values between 1 and 10\n",
    "random_integers = np.random.randint(1, 11, 3)\n",
    "print(\"Task 10:\", random_integers)"
   ]
  },
  {
   "cell_type": "code",
   "execution_count": 11,
   "id": "7f3325e5",
   "metadata": {},
   "outputs": [
    {
     "name": "stdout",
     "output_type": "stream",
     "text": [
      "Task 11: [[[0.2215614  0.92525611 0.99361924]\n",
      "  [0.00559532 0.14851623 0.2885781 ]\n",
      "  [0.31609801 0.50702335 0.70709549]]\n",
      "\n",
      " [[0.71758603 0.80281887 0.92249631]\n",
      "  [0.43236782 0.22191571 0.96818938]\n",
      "  [0.9212234  0.65506808 0.35966677]]\n",
      "\n",
      " [[0.50609077 0.00987291 0.08965938]\n",
      "  [0.13325948 0.13040419 0.37930676]\n",
      "  [0.6820953  0.15858014 0.43022285]]]\n"
     ]
    }
   ],
   "source": [
    "# Task 11: Create a 3*3*3 numpy matrix, filled with random float values\n",
    "random_floats = np.random.rand(3, 3, 3)\n",
    "print(\"Task 11:\", random_floats)"
   ]
  },
  {
   "cell_type": "code",
   "execution_count": 12,
   "id": "5b91cc5d",
   "metadata": {},
   "outputs": [
    {
     "name": "stdout",
     "output_type": "stream",
     "text": [
      "Task 12: [ 1  2  3  4  5  6  7  8  9 10]\n"
     ]
    }
   ],
   "source": [
    "# Task 12: Create a numpy array with numbers from 1 to 10\n",
    "array_1_to_10 = np.arange(1, 11)\n",
    "print(\"Task 12:\", array_1_to_10)"
   ]
  },
  {
   "cell_type": "code",
   "execution_count": 13,
   "id": "f0e33f48",
   "metadata": {},
   "outputs": [
    {
     "name": "stdout",
     "output_type": "stream",
     "text": [
      "Task 13: [1 3 5 7 9]\n"
     ]
    }
   ],
   "source": [
    "# Task 13: Create a numpy array with the odd numbers between 1 to 10\n",
    "array_odd_numbers = np.arange(1, 11, 2)\n",
    "print(\"Task 13:\", array_odd_numbers)"
   ]
  },
  {
   "cell_type": "code",
   "execution_count": 14,
   "id": "8d971e76",
   "metadata": {},
   "outputs": [
    {
     "name": "stdout",
     "output_type": "stream",
     "text": [
      "Task 14: [10  9  8  7  6  5  4  3  2  1]\n"
     ]
    }
   ],
   "source": [
    "# Task 14: Create a numpy array with numbers from 1 to 10, in descending order\n",
    "array_descending = np.arange(10, 0, -1)\n",
    "print(\"Task 14:\", array_descending)"
   ]
  },
  {
   "cell_type": "code",
   "execution_count": 15,
   "id": "9801e41c",
   "metadata": {},
   "outputs": [
    {
     "name": "stdout",
     "output_type": "stream",
     "text": [
      "Task 15: [[0 1 2]\n",
      " [3 4 5]\n",
      " [6 7 8]]\n"
     ]
    }
   ],
   "source": [
    "# Task 15: Create a 3*3 numpy matrix, filled with values ranging from 0 to 8\n",
    "matrix_0_to_8 = np.arange(9).reshape(3, 3)\n",
    "print(\"Task 15:\", matrix_0_to_8)"
   ]
  },
  {
   "cell_type": "markdown",
   "id": "61ba71b0",
   "metadata": {},
   "source": [
    "# Array indexing"
   ]
  },
  {
   "cell_type": "code",
   "execution_count": 16,
   "id": "a7b86024",
   "metadata": {},
   "outputs": [
    {
     "name": "stdout",
     "output_type": "stream",
     "text": [
      "Task 1: A\n"
     ]
    }
   ],
   "source": [
    "# Task 1: Given the X numpy array, show its first element\n",
    "X = np.array(['A', 'B', 'C', 'D', 'E'])\n",
    "print(\"Task 1:\", X[0])\n"
   ]
  },
  {
   "cell_type": "code",
   "execution_count": 17,
   "id": "6994622b",
   "metadata": {},
   "outputs": [
    {
     "name": "stdout",
     "output_type": "stream",
     "text": [
      "Task 2: E\n"
     ]
    }
   ],
   "source": [
    "# Task 2: Given the X numpy array, show its last element\n",
    "print(\"Task 2:\", X[-1])"
   ]
  },
  {
   "cell_type": "code",
   "execution_count": 18,
   "id": "613cbb7f",
   "metadata": {},
   "outputs": [
    {
     "name": "stdout",
     "output_type": "stream",
     "text": [
      "Task 3: ['A' 'B' 'C']\n"
     ]
    }
   ],
   "source": [
    "# Task 3: Given the X numpy array, show its first three elements\n",
    "print(\"Task 3:\", X[:3])"
   ]
  },
  {
   "cell_type": "code",
   "execution_count": 19,
   "id": "cf0b08d9",
   "metadata": {},
   "outputs": [
    {
     "name": "stdout",
     "output_type": "stream",
     "text": [
      "Task 4: ['B' 'C' 'D']\n"
     ]
    }
   ],
   "source": [
    "# Task 4: Given the X numpy array, show all middle elements\n",
    "print(\"Task 4:\", X[1:-1])"
   ]
  },
  {
   "cell_type": "code",
   "execution_count": 20,
   "id": "d4377997",
   "metadata": {},
   "outputs": [
    {
     "name": "stdout",
     "output_type": "stream",
     "text": [
      "Task 5: ['E' 'D' 'C' 'B' 'A']\n"
     ]
    }
   ],
   "source": [
    "# Task 5: Given the X numpy array, show the elements in reverse position\n",
    "print(\"Task 5:\", X[::-1])"
   ]
  },
  {
   "cell_type": "code",
   "execution_count": 21,
   "id": "77fb117f",
   "metadata": {},
   "outputs": [
    {
     "name": "stdout",
     "output_type": "stream",
     "text": [
      "Task 6: ['A' 'C' 'E']\n"
     ]
    }
   ],
   "source": [
    "# Task 6: Given the X numpy array, show the elements in an odd position\n",
    "print(\"Task 6:\", X[::2])"
   ]
  },
  {
   "cell_type": "code",
   "execution_count": 22,
   "id": "e12734f9",
   "metadata": {},
   "outputs": [
    {
     "name": "stdout",
     "output_type": "stream",
     "text": [
      "Task 7: [1 2 3 4]\n"
     ]
    }
   ],
   "source": [
    "# Task 7: Given the X numpy matrix, show the first row’s elements\n",
    "Y = np.array([\n",
    "    [1, 2, 3, 4],\n",
    "    [5, 6, 7, 8],\n",
    "    [9, 10, 11, 12],\n",
    "    [13, 14, 15, 16]\n",
    "])\n",
    "print(\"Task 7:\", Y[0])"
   ]
  },
  {
   "cell_type": "code",
   "execution_count": 23,
   "id": "367fce4f",
   "metadata": {},
   "outputs": [
    {
     "name": "stdout",
     "output_type": "stream",
     "text": [
      "Task 8: [13 14 15 16]\n"
     ]
    }
   ],
   "source": [
    "# Task 8: Given the X numpy matrix, show the last row elements\n",
    "print(\"Task 8:\", Y[-1])"
   ]
  },
  {
   "cell_type": "code",
   "execution_count": 24,
   "id": "578a13d9",
   "metadata": {},
   "outputs": [
    {
     "name": "stdout",
     "output_type": "stream",
     "text": [
      "Task 9: 1\n"
     ]
    }
   ],
   "source": [
    "# Task 9: Given the X numpy matrix, show the first element on the first row\n",
    "print(\"Task 9:\", Y[0, 0])"
   ]
  },
  {
   "cell_type": "code",
   "execution_count": 25,
   "id": "f9ebb66b",
   "metadata": {},
   "outputs": [
    {
     "name": "stdout",
     "output_type": "stream",
     "text": [
      "Task 10: 16\n"
     ]
    }
   ],
   "source": [
    "# Task 10: Given the X numpy matrix, show the last element on the last row\n",
    "print(\"Task 10:\", Y[-1, -1])"
   ]
  },
  {
   "cell_type": "code",
   "execution_count": 26,
   "id": "dc2a2ba5",
   "metadata": {},
   "outputs": [
    {
     "name": "stdout",
     "output_type": "stream",
     "text": [
      "Task 11: [[1 2]\n",
      " [5 6]]\n"
     ]
    }
   ],
   "source": [
    "# Task 11: Given the X numpy matrix, show the first two elements on the first two rows\n",
    "print(\"Task 11:\", Y[:2, :2])"
   ]
  },
  {
   "cell_type": "code",
   "execution_count": 27,
   "id": "80ef1262",
   "metadata": {},
   "outputs": [
    {
     "name": "stdout",
     "output_type": "stream",
     "text": [
      "Task 12: [[11 12]\n",
      " [15 16]]\n"
     ]
    }
   ],
   "source": [
    "# Task 12: Given the X numpy matrix, show the last two elements on the last two rows\n",
    "print(\"Task 12:\", Y[-2:, -2:])"
   ]
  },
  {
   "cell_type": "markdown",
   "id": "c77547f5",
   "metadata": {},
   "source": [
    "# Array manipulation"
   ]
  },
  {
   "cell_type": "code",
   "execution_count": 28,
   "id": "f70ad2dc",
   "metadata": {},
   "outputs": [
    {
     "name": "stdout",
     "output_type": "stream",
     "text": [
      "Task 1: [-5. -3.  0. 10. 40.]\n"
     ]
    }
   ],
   "source": [
    "# Task 1: Convert the given integer numpy array to float\n",
    "X = np.array([-5, -3, 0, 10, 40])\n",
    "X_float = X.astype(float)\n",
    "print(\"Task 1:\", X_float)"
   ]
  },
  {
   "cell_type": "code",
   "execution_count": 29,
   "id": "8837044c",
   "metadata": {},
   "outputs": [
    {
     "name": "stdout",
     "output_type": "stream",
     "text": [
      "Task 2: [40 10  0 -3 -5]\n"
     ]
    }
   ],
   "source": [
    "# Task 2: Reverse the given numpy array through indexing\n",
    "X_reversed = X[::-1]\n",
    "print(\"Task 2:\", X_reversed)"
   ]
  },
  {
   "cell_type": "code",
   "execution_count": 30,
   "id": "921669ff",
   "metadata": {},
   "outputs": [
    {
     "name": "stdout",
     "output_type": "stream",
     "text": [
      "Task 3: [0. 0. 0. 0. 1. 0. 0. 0. 0. 0.]\n"
     ]
    }
   ],
   "source": [
    "# Task 3: Given the X numpy array, set the fifth element equal to 1\n",
    "X_task3 = np.zeros(10)\n",
    "X_task3[4] = 1\n",
    "print(\"Task 3:\", X_task3)"
   ]
  },
  {
   "cell_type": "code",
   "execution_count": 31,
   "id": "a47943cb",
   "metadata": {},
   "outputs": [
    {
     "name": "stdout",
     "output_type": "stream",
     "text": [
      "Task 4: [[ 1  2  3  4]\n",
      " [ 5  6  7  8]\n",
      " [ 9 10 11 12]\n",
      " [ 1  1  1  1]]\n"
     ]
    }
   ],
   "source": [
    "# Task 4: Given the X numpy matrix, change the last row with all 1\n",
    "X_task4 = np.array([\n",
    "    [1, 2, 3, 4],\n",
    "    [5, 6, 7, 8],\n",
    "    [9, 10, 11, 12],\n",
    "    [13, 14, 15, 16]\n",
    "])\n",
    "X_task4[-1] = 1\n",
    "print(\"Task 4:\", X_task4)"
   ]
  },
  {
   "cell_type": "code",
   "execution_count": 32,
   "id": "d902b9f1",
   "metadata": {},
   "outputs": [
    {
     "name": "stdout",
     "output_type": "stream",
     "text": [
      "Task 5: [[ 6  7  8  9]\n",
      " [10 11 12 13]\n",
      " [14 15 16 17]\n",
      " [18 19 20 21]]\n"
     ]
    }
   ],
   "source": [
    "# Task 5: Given the X numpy matrix, add 5 to every element\n",
    "X_task5 = np.array([\n",
    "    [1, 2, 3, 4],\n",
    "    [5, 6, 7, 8],\n",
    "    [9, 10, 11, 12],\n",
    "    [13, 14, 15, 16]\n",
    "])\n",
    "X_task5 += 5\n",
    "print(\"Task 5:\", X_task5)"
   ]
  },
  {
   "cell_type": "code",
   "execution_count": null,
   "id": "0c18918a",
   "metadata": {},
   "outputs": [],
   "source": []
  }
 ],
 "metadata": {
  "kernelspec": {
   "display_name": "Python 3 (ipykernel)",
   "language": "python",
   "name": "python3"
  },
  "language_info": {
   "codemirror_mode": {
    "name": "ipython",
    "version": 3
   },
   "file_extension": ".py",
   "mimetype": "text/x-python",
   "name": "python",
   "nbconvert_exporter": "python",
   "pygments_lexer": "ipython3",
   "version": "3.11.5"
  }
 },
 "nbformat": 4,
 "nbformat_minor": 5
}
